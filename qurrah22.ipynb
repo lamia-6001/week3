{
  "nbformat": 4,
  "nbformat_minor": 0,
  "metadata": {
    "colab": {
      "provenance": [],
      "collapsed_sections": [
        "tG1NVIbVqYbQ",
        "VAd4d5vG0I9u",
        "3Mpilk-H6TmB",
        "N1-SqJPaKLWg"
      ],
      "include_colab_link": true
    },
    "kernelspec": {
      "name": "python3",
      "display_name": "Python 3"
    },
    "language_info": {
      "name": "python"
    }
  },
  "cells": [
    {
      "cell_type": "markdown",
      "metadata": {
        "id": "view-in-github",
        "colab_type": "text"
      },
      "source": [
        "<a href=\"https://colab.research.google.com/github/lamia-6001/week3/blob/main/qurrah22.ipynb\" target=\"_parent\"><img src=\"https://colab.research.google.com/assets/colab-badge.svg\" alt=\"Open In Colab\"/></a>"
      ]
    },
    {
      "cell_type": "code",
      "execution_count": 98,
      "metadata": {
        "id": "Ls1ZOA1pMEKV",
        "colab": {
          "base_uri": "https://localhost:8080/"
        },
        "outputId": "e3bcee27-6a2b-4cae-dbbd-d8c2abb91aca"
      },
      "outputs": [
        {
          "output_type": "stream",
          "name": "stdout",
          "text": [
            "Importing.....[Done]\n"
          ]
        }
      ],
      "source": [
        "# Data Analysis Libs\n",
        "print(\"Importing.....\", end=\"\", flush=True)\n",
        "import numpy as np\n",
        "import pandas as pd\n",
        "from matplotlib import pyplot as plt\n",
        "import seaborn as sns\n",
        "\n",
        "# Suppress warnings\n",
        "import warnings\n",
        "warnings.filterwarnings('ignore')\n",
        "print(\"[Done]\")"
      ]
    },
    {
      "cell_type": "code",
      "source": [
        "df = pd.read_csv(\"qurrah_users_2022.csv\")\n",
        "df.head()"
      ],
      "metadata": {
        "id": "g6OjIjubMYav",
        "colab": {
          "base_uri": "https://localhost:8080/",
          "height": 206
        },
        "outputId": "ae58ac38-53b9-4f97-aef0-6baa93c34fdd"
      },
      "execution_count": 99,
      "outputs": [
        {
          "output_type": "execute_result",
          "data": {
            "text/plain": [
              "   id status            startDate     registrationDate                  dob  \\\n",
              "0   1   مفعل  2023-05-09 00:00:00  2022-08-31 23:00:46  1997-05-28 00:00:00   \n",
              "1   2   مفعل  2023-05-08 00:00:00  2022-02-28 08:21:52  1993-12-15 00:00:00   \n",
              "2   3   مفعل  2023-05-07 00:00:00  2022-12-03 19:47:43  1991-04-07 00:00:00   \n",
              "3   4   مفعل  2023-05-07 00:00:00  2022-11-20 10:48:03  1996-11-11 00:00:00   \n",
              "4   5   مفعل  2023-05-08 00:00:00  2022-10-17 11:08:29  1988-05-01 00:00:00   \n",
              "\n",
              "   gender           city           region  numberOfChildren  isMarried  \\\n",
              "0       1         المسجد             حائل                 2          0   \n",
              "1       1          بريدة           القصيم                 2          0   \n",
              "2       1       البكيرية           القصيم                 3          0   \n",
              "3       1  ينبع الصناعية  المدينة المنورة                 1          0   \n",
              "4       1         الرياض           الرياض                 2          0   \n",
              "\n",
              "   hasDisability  \n",
              "0              0  \n",
              "1              0  \n",
              "2              0  \n",
              "3              0  \n",
              "4              0  "
            ],
            "text/html": [
              "\n",
              "  <div id=\"df-ce6392d6-0f78-4226-80b6-3367e6879bd2\" class=\"colab-df-container\">\n",
              "    <div>\n",
              "<style scoped>\n",
              "    .dataframe tbody tr th:only-of-type {\n",
              "        vertical-align: middle;\n",
              "    }\n",
              "\n",
              "    .dataframe tbody tr th {\n",
              "        vertical-align: top;\n",
              "    }\n",
              "\n",
              "    .dataframe thead th {\n",
              "        text-align: right;\n",
              "    }\n",
              "</style>\n",
              "<table border=\"1\" class=\"dataframe\">\n",
              "  <thead>\n",
              "    <tr style=\"text-align: right;\">\n",
              "      <th></th>\n",
              "      <th>id</th>\n",
              "      <th>status</th>\n",
              "      <th>startDate</th>\n",
              "      <th>registrationDate</th>\n",
              "      <th>dob</th>\n",
              "      <th>gender</th>\n",
              "      <th>city</th>\n",
              "      <th>region</th>\n",
              "      <th>numberOfChildren</th>\n",
              "      <th>isMarried</th>\n",
              "      <th>hasDisability</th>\n",
              "    </tr>\n",
              "  </thead>\n",
              "  <tbody>\n",
              "    <tr>\n",
              "      <th>0</th>\n",
              "      <td>1</td>\n",
              "      <td>مفعل</td>\n",
              "      <td>2023-05-09 00:00:00</td>\n",
              "      <td>2022-08-31 23:00:46</td>\n",
              "      <td>1997-05-28 00:00:00</td>\n",
              "      <td>1</td>\n",
              "      <td>المسجد</td>\n",
              "      <td>حائل</td>\n",
              "      <td>2</td>\n",
              "      <td>0</td>\n",
              "      <td>0</td>\n",
              "    </tr>\n",
              "    <tr>\n",
              "      <th>1</th>\n",
              "      <td>2</td>\n",
              "      <td>مفعل</td>\n",
              "      <td>2023-05-08 00:00:00</td>\n",
              "      <td>2022-02-28 08:21:52</td>\n",
              "      <td>1993-12-15 00:00:00</td>\n",
              "      <td>1</td>\n",
              "      <td>بريدة</td>\n",
              "      <td>القصيم</td>\n",
              "      <td>2</td>\n",
              "      <td>0</td>\n",
              "      <td>0</td>\n",
              "    </tr>\n",
              "    <tr>\n",
              "      <th>2</th>\n",
              "      <td>3</td>\n",
              "      <td>مفعل</td>\n",
              "      <td>2023-05-07 00:00:00</td>\n",
              "      <td>2022-12-03 19:47:43</td>\n",
              "      <td>1991-04-07 00:00:00</td>\n",
              "      <td>1</td>\n",
              "      <td>البكيرية</td>\n",
              "      <td>القصيم</td>\n",
              "      <td>3</td>\n",
              "      <td>0</td>\n",
              "      <td>0</td>\n",
              "    </tr>\n",
              "    <tr>\n",
              "      <th>3</th>\n",
              "      <td>4</td>\n",
              "      <td>مفعل</td>\n",
              "      <td>2023-05-07 00:00:00</td>\n",
              "      <td>2022-11-20 10:48:03</td>\n",
              "      <td>1996-11-11 00:00:00</td>\n",
              "      <td>1</td>\n",
              "      <td>ينبع الصناعية</td>\n",
              "      <td>المدينة المنورة</td>\n",
              "      <td>1</td>\n",
              "      <td>0</td>\n",
              "      <td>0</td>\n",
              "    </tr>\n",
              "    <tr>\n",
              "      <th>4</th>\n",
              "      <td>5</td>\n",
              "      <td>مفعل</td>\n",
              "      <td>2023-05-08 00:00:00</td>\n",
              "      <td>2022-10-17 11:08:29</td>\n",
              "      <td>1988-05-01 00:00:00</td>\n",
              "      <td>1</td>\n",
              "      <td>الرياض</td>\n",
              "      <td>الرياض</td>\n",
              "      <td>2</td>\n",
              "      <td>0</td>\n",
              "      <td>0</td>\n",
              "    </tr>\n",
              "  </tbody>\n",
              "</table>\n",
              "</div>\n",
              "    <div class=\"colab-df-buttons\">\n",
              "\n",
              "  <div class=\"colab-df-container\">\n",
              "    <button class=\"colab-df-convert\" onclick=\"convertToInteractive('df-ce6392d6-0f78-4226-80b6-3367e6879bd2')\"\n",
              "            title=\"Convert this dataframe to an interactive table.\"\n",
              "            style=\"display:none;\">\n",
              "\n",
              "  <svg xmlns=\"http://www.w3.org/2000/svg\" height=\"24px\" viewBox=\"0 -960 960 960\">\n",
              "    <path d=\"M120-120v-720h720v720H120Zm60-500h600v-160H180v160Zm220 220h160v-160H400v160Zm0 220h160v-160H400v160ZM180-400h160v-160H180v160Zm440 0h160v-160H620v160ZM180-180h160v-160H180v160Zm440 0h160v-160H620v160Z\"/>\n",
              "  </svg>\n",
              "    </button>\n",
              "\n",
              "  <style>\n",
              "    .colab-df-container {\n",
              "      display:flex;\n",
              "      gap: 12px;\n",
              "    }\n",
              "\n",
              "    .colab-df-convert {\n",
              "      background-color: #E8F0FE;\n",
              "      border: none;\n",
              "      border-radius: 50%;\n",
              "      cursor: pointer;\n",
              "      display: none;\n",
              "      fill: #1967D2;\n",
              "      height: 32px;\n",
              "      padding: 0 0 0 0;\n",
              "      width: 32px;\n",
              "    }\n",
              "\n",
              "    .colab-df-convert:hover {\n",
              "      background-color: #E2EBFA;\n",
              "      box-shadow: 0px 1px 2px rgba(60, 64, 67, 0.3), 0px 1px 3px 1px rgba(60, 64, 67, 0.15);\n",
              "      fill: #174EA6;\n",
              "    }\n",
              "\n",
              "    .colab-df-buttons div {\n",
              "      margin-bottom: 4px;\n",
              "    }\n",
              "\n",
              "    [theme=dark] .colab-df-convert {\n",
              "      background-color: #3B4455;\n",
              "      fill: #D2E3FC;\n",
              "    }\n",
              "\n",
              "    [theme=dark] .colab-df-convert:hover {\n",
              "      background-color: #434B5C;\n",
              "      box-shadow: 0px 1px 3px 1px rgba(0, 0, 0, 0.15);\n",
              "      filter: drop-shadow(0px 1px 2px rgba(0, 0, 0, 0.3));\n",
              "      fill: #FFFFFF;\n",
              "    }\n",
              "  </style>\n",
              "\n",
              "    <script>\n",
              "      const buttonEl =\n",
              "        document.querySelector('#df-ce6392d6-0f78-4226-80b6-3367e6879bd2 button.colab-df-convert');\n",
              "      buttonEl.style.display =\n",
              "        google.colab.kernel.accessAllowed ? 'block' : 'none';\n",
              "\n",
              "      async function convertToInteractive(key) {\n",
              "        const element = document.querySelector('#df-ce6392d6-0f78-4226-80b6-3367e6879bd2');\n",
              "        const dataTable =\n",
              "          await google.colab.kernel.invokeFunction('convertToInteractive',\n",
              "                                                    [key], {});\n",
              "        if (!dataTable) return;\n",
              "\n",
              "        const docLinkHtml = 'Like what you see? Visit the ' +\n",
              "          '<a target=\"_blank\" href=https://colab.research.google.com/notebooks/data_table.ipynb>data table notebook</a>'\n",
              "          + ' to learn more about interactive tables.';\n",
              "        element.innerHTML = '';\n",
              "        dataTable['output_type'] = 'display_data';\n",
              "        await google.colab.output.renderOutput(dataTable, element);\n",
              "        const docLink = document.createElement('div');\n",
              "        docLink.innerHTML = docLinkHtml;\n",
              "        element.appendChild(docLink);\n",
              "      }\n",
              "    </script>\n",
              "  </div>\n",
              "\n",
              "\n",
              "<div id=\"df-ebbeab02-7743-438c-915e-48060ec023d1\">\n",
              "  <button class=\"colab-df-quickchart\" onclick=\"quickchart('df-ebbeab02-7743-438c-915e-48060ec023d1')\"\n",
              "            title=\"Suggest charts\"\n",
              "            style=\"display:none;\">\n",
              "\n",
              "<svg xmlns=\"http://www.w3.org/2000/svg\" height=\"24px\"viewBox=\"0 0 24 24\"\n",
              "     width=\"24px\">\n",
              "    <g>\n",
              "        <path d=\"M19 3H5c-1.1 0-2 .9-2 2v14c0 1.1.9 2 2 2h14c1.1 0 2-.9 2-2V5c0-1.1-.9-2-2-2zM9 17H7v-7h2v7zm4 0h-2V7h2v10zm4 0h-2v-4h2v4z\"/>\n",
              "    </g>\n",
              "</svg>\n",
              "  </button>\n",
              "\n",
              "<style>\n",
              "  .colab-df-quickchart {\n",
              "      --bg-color: #E8F0FE;\n",
              "      --fill-color: #1967D2;\n",
              "      --hover-bg-color: #E2EBFA;\n",
              "      --hover-fill-color: #174EA6;\n",
              "      --disabled-fill-color: #AAA;\n",
              "      --disabled-bg-color: #DDD;\n",
              "  }\n",
              "\n",
              "  [theme=dark] .colab-df-quickchart {\n",
              "      --bg-color: #3B4455;\n",
              "      --fill-color: #D2E3FC;\n",
              "      --hover-bg-color: #434B5C;\n",
              "      --hover-fill-color: #FFFFFF;\n",
              "      --disabled-bg-color: #3B4455;\n",
              "      --disabled-fill-color: #666;\n",
              "  }\n",
              "\n",
              "  .colab-df-quickchart {\n",
              "    background-color: var(--bg-color);\n",
              "    border: none;\n",
              "    border-radius: 50%;\n",
              "    cursor: pointer;\n",
              "    display: none;\n",
              "    fill: var(--fill-color);\n",
              "    height: 32px;\n",
              "    padding: 0;\n",
              "    width: 32px;\n",
              "  }\n",
              "\n",
              "  .colab-df-quickchart:hover {\n",
              "    background-color: var(--hover-bg-color);\n",
              "    box-shadow: 0 1px 2px rgba(60, 64, 67, 0.3), 0 1px 3px 1px rgba(60, 64, 67, 0.15);\n",
              "    fill: var(--button-hover-fill-color);\n",
              "  }\n",
              "\n",
              "  .colab-df-quickchart-complete:disabled,\n",
              "  .colab-df-quickchart-complete:disabled:hover {\n",
              "    background-color: var(--disabled-bg-color);\n",
              "    fill: var(--disabled-fill-color);\n",
              "    box-shadow: none;\n",
              "  }\n",
              "\n",
              "  .colab-df-spinner {\n",
              "    border: 2px solid var(--fill-color);\n",
              "    border-color: transparent;\n",
              "    border-bottom-color: var(--fill-color);\n",
              "    animation:\n",
              "      spin 1s steps(1) infinite;\n",
              "  }\n",
              "\n",
              "  @keyframes spin {\n",
              "    0% {\n",
              "      border-color: transparent;\n",
              "      border-bottom-color: var(--fill-color);\n",
              "      border-left-color: var(--fill-color);\n",
              "    }\n",
              "    20% {\n",
              "      border-color: transparent;\n",
              "      border-left-color: var(--fill-color);\n",
              "      border-top-color: var(--fill-color);\n",
              "    }\n",
              "    30% {\n",
              "      border-color: transparent;\n",
              "      border-left-color: var(--fill-color);\n",
              "      border-top-color: var(--fill-color);\n",
              "      border-right-color: var(--fill-color);\n",
              "    }\n",
              "    40% {\n",
              "      border-color: transparent;\n",
              "      border-right-color: var(--fill-color);\n",
              "      border-top-color: var(--fill-color);\n",
              "    }\n",
              "    60% {\n",
              "      border-color: transparent;\n",
              "      border-right-color: var(--fill-color);\n",
              "    }\n",
              "    80% {\n",
              "      border-color: transparent;\n",
              "      border-right-color: var(--fill-color);\n",
              "      border-bottom-color: var(--fill-color);\n",
              "    }\n",
              "    90% {\n",
              "      border-color: transparent;\n",
              "      border-bottom-color: var(--fill-color);\n",
              "    }\n",
              "  }\n",
              "</style>\n",
              "\n",
              "  <script>\n",
              "    async function quickchart(key) {\n",
              "      const quickchartButtonEl =\n",
              "        document.querySelector('#' + key + ' button');\n",
              "      quickchartButtonEl.disabled = true;  // To prevent multiple clicks.\n",
              "      quickchartButtonEl.classList.add('colab-df-spinner');\n",
              "      try {\n",
              "        const charts = await google.colab.kernel.invokeFunction(\n",
              "            'suggestCharts', [key], {});\n",
              "      } catch (error) {\n",
              "        console.error('Error during call to suggestCharts:', error);\n",
              "      }\n",
              "      quickchartButtonEl.classList.remove('colab-df-spinner');\n",
              "      quickchartButtonEl.classList.add('colab-df-quickchart-complete');\n",
              "    }\n",
              "    (() => {\n",
              "      let quickchartButtonEl =\n",
              "        document.querySelector('#df-ebbeab02-7743-438c-915e-48060ec023d1 button');\n",
              "      quickchartButtonEl.style.display =\n",
              "        google.colab.kernel.accessAllowed ? 'block' : 'none';\n",
              "    })();\n",
              "  </script>\n",
              "</div>\n",
              "\n",
              "    </div>\n",
              "  </div>\n"
            ],
            "application/vnd.google.colaboratory.intrinsic+json": {
              "type": "dataframe",
              "variable_name": "df",
              "summary": "{\n  \"name\": \"df\",\n  \"rows\": 34743,\n  \"fields\": [\n    {\n      \"column\": \"id\",\n      \"properties\": {\n        \"dtype\": \"number\",\n        \"std\": 10029,\n        \"min\": 1,\n        \"max\": 34743,\n        \"num_unique_values\": 34743,\n        \"samples\": [\n          9499,\n          15830,\n          28198\n        ],\n        \"semantic_type\": \"\",\n        \"description\": \"\"\n      }\n    },\n    {\n      \"column\": \"status\",\n      \"properties\": {\n        \"dtype\": \"category\",\n        \"num_unique_values\": 2,\n        \"samples\": [\n          \"\\u0645\\u0644\\u063a\\u064a\\u0629\",\n          \"\\u0645\\u0641\\u0639\\u0644\"\n        ],\n        \"semantic_type\": \"\",\n        \"description\": \"\"\n      }\n    },\n    {\n      \"column\": \"startDate\",\n      \"properties\": {\n        \"dtype\": \"object\",\n        \"num_unique_values\": 513,\n        \"samples\": [\n          \"2022-11-10 00:00:00\",\n          \"2023-04-17 00:00:00\"\n        ],\n        \"semantic_type\": \"\",\n        \"description\": \"\"\n      }\n    },\n    {\n      \"column\": \"registrationDate\",\n      \"properties\": {\n        \"dtype\": \"object\",\n        \"num_unique_values\": 10424,\n        \"samples\": [\n          \"2022-03-16 09:21:42\",\n          \"2022-07-26 15:01:18\"\n        ],\n        \"semantic_type\": \"\",\n        \"description\": \"\"\n      }\n    },\n    {\n      \"column\": \"dob\",\n      \"properties\": {\n        \"dtype\": \"object\",\n        \"num_unique_values\": 4973,\n        \"samples\": [\n          \"1997-04-17 00:00:00\",\n          \"1997-10-10 00:00:00\"\n        ],\n        \"semantic_type\": \"\",\n        \"description\": \"\"\n      }\n    },\n    {\n      \"column\": \"gender\",\n      \"properties\": {\n        \"dtype\": \"number\",\n        \"std\": 0,\n        \"min\": 1,\n        \"max\": 1,\n        \"num_unique_values\": 1,\n        \"samples\": [\n          1\n        ],\n        \"semantic_type\": \"\",\n        \"description\": \"\"\n      }\n    },\n    {\n      \"column\": \"city\",\n      \"properties\": {\n        \"dtype\": \"category\",\n        \"num_unique_values\": 387,\n        \"samples\": [\n          \"\\u0627\\u0644\\u0632\\u0647\\u0631\\u0629\"\n        ],\n        \"semantic_type\": \"\",\n        \"description\": \"\"\n      }\n    },\n    {\n      \"column\": \"region\",\n      \"properties\": {\n        \"dtype\": \"category\",\n        \"num_unique_values\": 13,\n        \"samples\": [\n          \"\\u062a\\u0628\\u0648\\u0643\"\n        ],\n        \"semantic_type\": \"\",\n        \"description\": \"\"\n      }\n    },\n    {\n      \"column\": \"numberOfChildren\",\n      \"properties\": {\n        \"dtype\": \"number\",\n        \"std\": 0,\n        \"min\": 0,\n        \"max\": 6,\n        \"num_unique_values\": 7,\n        \"samples\": [\n          2\n        ],\n        \"semantic_type\": \"\",\n        \"description\": \"\"\n      }\n    },\n    {\n      \"column\": \"isMarried\",\n      \"properties\": {\n        \"dtype\": \"number\",\n        \"std\": 0,\n        \"min\": 0,\n        \"max\": 1,\n        \"num_unique_values\": 2,\n        \"samples\": [\n          1\n        ],\n        \"semantic_type\": \"\",\n        \"description\": \"\"\n      }\n    },\n    {\n      \"column\": \"hasDisability\",\n      \"properties\": {\n        \"dtype\": \"number\",\n        \"std\": 0,\n        \"min\": 0,\n        \"max\": 1,\n        \"num_unique_values\": 2,\n        \"samples\": [\n          1\n        ],\n        \"semantic_type\": \"\",\n        \"description\": \"\"\n      }\n    }\n  ]\n}"
            }
          },
          "metadata": {},
          "execution_count": 99
        }
      ]
    },
    {
      "cell_type": "markdown",
      "source": [
        "#### **Summarize our Data**"
      ],
      "metadata": {
        "id": "FI1vfkuw4j_9"
      }
    },
    {
      "cell_type": "code",
      "source": [
        "df.info() # show the data types for the columns"
      ],
      "metadata": {
        "colab": {
          "base_uri": "https://localhost:8080/"
        },
        "id": "njNBVDC8MiK4",
        "outputId": "2461ddc1-6e06-4a17-def3-e0ec3b107719"
      },
      "execution_count": 100,
      "outputs": [
        {
          "output_type": "stream",
          "name": "stdout",
          "text": [
            "<class 'pandas.core.frame.DataFrame'>\n",
            "RangeIndex: 34743 entries, 0 to 34742\n",
            "Data columns (total 11 columns):\n",
            " #   Column            Non-Null Count  Dtype \n",
            "---  ------            --------------  ----- \n",
            " 0   id                34743 non-null  int64 \n",
            " 1   status            34743 non-null  object\n",
            " 2   startDate         34743 non-null  object\n",
            " 3   registrationDate  34743 non-null  object\n",
            " 4   dob               34743 non-null  object\n",
            " 5   gender            34743 non-null  int64 \n",
            " 6   city              34464 non-null  object\n",
            " 7   region            34354 non-null  object\n",
            " 8   numberOfChildren  34743 non-null  int64 \n",
            " 9   isMarried         34743 non-null  int64 \n",
            " 10  hasDisability     34743 non-null  int64 \n",
            "dtypes: int64(5), object(6)\n",
            "memory usage: 2.9+ MB\n"
          ]
        }
      ]
    },
    {
      "cell_type": "code",
      "source": [
        "# lets visualize the NAs done to the data\n",
        "NA_series = round((df.isna().sum()/len(df))*100.0,2) # get the NAs per column as perctentage\n",
        "NA_series"
      ],
      "metadata": {
        "colab": {
          "base_uri": "https://localhost:8080/"
        },
        "id": "LQgVCFo-oVGM",
        "outputId": "a3039dd9-a135-4ac6-95e8-dda0ecc021a4"
      },
      "execution_count": 101,
      "outputs": [
        {
          "output_type": "execute_result",
          "data": {
            "text/plain": [
              "id                  0.00\n",
              "status              0.00\n",
              "startDate           0.00\n",
              "registrationDate    0.00\n",
              "dob                 0.00\n",
              "gender              0.00\n",
              "city                0.80\n",
              "region              1.12\n",
              "numberOfChildren    0.00\n",
              "isMarried           0.00\n",
              "hasDisability       0.00\n",
              "dtype: float64"
            ]
          },
          "metadata": {},
          "execution_count": 101
        }
      ]
    },
    {
      "cell_type": "code",
      "source": [
        "NA_series[NA_series>1] # It appears that region is too filled with NAs to be fixed"
      ],
      "metadata": {
        "colab": {
          "base_uri": "https://localhost:8080/"
        },
        "id": "Piw_RcgLoZJD",
        "outputId": "0671bb65-4361-4312-9c68-ab261c5c5754"
      },
      "execution_count": 102,
      "outputs": [
        {
          "output_type": "execute_result",
          "data": {
            "text/plain": [
              "region    1.12\n",
              "dtype: float64"
            ]
          },
          "metadata": {},
          "execution_count": 102
        }
      ]
    },
    {
      "cell_type": "code",
      "source": [
        "df.isna().sum() # double check on NAs"
      ],
      "metadata": {
        "colab": {
          "base_uri": "https://localhost:8080/"
        },
        "id": "Nsib3FBrohtp",
        "outputId": "cadb60d7-5504-49c1-8bb2-516db18db8b5"
      },
      "execution_count": 103,
      "outputs": [
        {
          "output_type": "execute_result",
          "data": {
            "text/plain": [
              "id                    0\n",
              "status                0\n",
              "startDate             0\n",
              "registrationDate      0\n",
              "dob                   0\n",
              "gender                0\n",
              "city                279\n",
              "region              389\n",
              "numberOfChildren      0\n",
              "isMarried             0\n",
              "hasDisability         0\n",
              "dtype: int64"
            ]
          },
          "metadata": {},
          "execution_count": 103
        }
      ]
    },
    {
      "cell_type": "code",
      "source": [
        "# We can either impute these NAs using Mode or Mean/Median or drop the rows\n",
        "# Let's impute\n",
        "city_q = df['city'].mode()[0]\n",
        "df.city.fillna(city_q, inplace=True)\n",
        "\n",
        "region_q = df['region'].mode()[0]  # حساب قيمة الوضع لعمود \"region\"\n",
        "df['region'].fillna(region_q, inplace=True)  # ملء القيم المفقودة في عمود \"region\" باستخدام قيمة الوضع\n"
      ],
      "metadata": {
        "id": "WE3_0KlopeTP"
      },
      "execution_count": 104,
      "outputs": []
    },
    {
      "cell_type": "code",
      "source": [
        "df.describe()"
      ],
      "metadata": {
        "colab": {
          "base_uri": "https://localhost:8080/",
          "height": 300
        },
        "id": "RIw9lrS6qHcJ",
        "outputId": "aecf9e4e-e469-4904-85c6-ee41245ea2c2"
      },
      "execution_count": 105,
      "outputs": [
        {
          "output_type": "execute_result",
          "data": {
            "text/plain": [
              "                 id   gender  numberOfChildren     isMarried  hasDisability\n",
              "count  34743.000000  34743.0      34743.000000  34743.000000   34743.000000\n",
              "mean   17372.000000      1.0          2.199033      0.327922       0.018076\n",
              "std    10029.584538      0.0          0.603338      0.469463       0.133227\n",
              "min        1.000000      1.0          0.000000      0.000000       0.000000\n",
              "25%     8686.500000      1.0          2.000000      0.000000       0.000000\n",
              "50%    17372.000000      1.0          2.000000      0.000000       0.000000\n",
              "75%    26057.500000      1.0          3.000000      1.000000       0.000000\n",
              "max    34743.000000      1.0          6.000000      1.000000       1.000000"
            ],
            "text/html": [
              "\n",
              "  <div id=\"df-48089c90-db9c-4e7f-91f7-ccc8b022d143\" class=\"colab-df-container\">\n",
              "    <div>\n",
              "<style scoped>\n",
              "    .dataframe tbody tr th:only-of-type {\n",
              "        vertical-align: middle;\n",
              "    }\n",
              "\n",
              "    .dataframe tbody tr th {\n",
              "        vertical-align: top;\n",
              "    }\n",
              "\n",
              "    .dataframe thead th {\n",
              "        text-align: right;\n",
              "    }\n",
              "</style>\n",
              "<table border=\"1\" class=\"dataframe\">\n",
              "  <thead>\n",
              "    <tr style=\"text-align: right;\">\n",
              "      <th></th>\n",
              "      <th>id</th>\n",
              "      <th>gender</th>\n",
              "      <th>numberOfChildren</th>\n",
              "      <th>isMarried</th>\n",
              "      <th>hasDisability</th>\n",
              "    </tr>\n",
              "  </thead>\n",
              "  <tbody>\n",
              "    <tr>\n",
              "      <th>count</th>\n",
              "      <td>34743.000000</td>\n",
              "      <td>34743.0</td>\n",
              "      <td>34743.000000</td>\n",
              "      <td>34743.000000</td>\n",
              "      <td>34743.000000</td>\n",
              "    </tr>\n",
              "    <tr>\n",
              "      <th>mean</th>\n",
              "      <td>17372.000000</td>\n",
              "      <td>1.0</td>\n",
              "      <td>2.199033</td>\n",
              "      <td>0.327922</td>\n",
              "      <td>0.018076</td>\n",
              "    </tr>\n",
              "    <tr>\n",
              "      <th>std</th>\n",
              "      <td>10029.584538</td>\n",
              "      <td>0.0</td>\n",
              "      <td>0.603338</td>\n",
              "      <td>0.469463</td>\n",
              "      <td>0.133227</td>\n",
              "    </tr>\n",
              "    <tr>\n",
              "      <th>min</th>\n",
              "      <td>1.000000</td>\n",
              "      <td>1.0</td>\n",
              "      <td>0.000000</td>\n",
              "      <td>0.000000</td>\n",
              "      <td>0.000000</td>\n",
              "    </tr>\n",
              "    <tr>\n",
              "      <th>25%</th>\n",
              "      <td>8686.500000</td>\n",
              "      <td>1.0</td>\n",
              "      <td>2.000000</td>\n",
              "      <td>0.000000</td>\n",
              "      <td>0.000000</td>\n",
              "    </tr>\n",
              "    <tr>\n",
              "      <th>50%</th>\n",
              "      <td>17372.000000</td>\n",
              "      <td>1.0</td>\n",
              "      <td>2.000000</td>\n",
              "      <td>0.000000</td>\n",
              "      <td>0.000000</td>\n",
              "    </tr>\n",
              "    <tr>\n",
              "      <th>75%</th>\n",
              "      <td>26057.500000</td>\n",
              "      <td>1.0</td>\n",
              "      <td>3.000000</td>\n",
              "      <td>1.000000</td>\n",
              "      <td>0.000000</td>\n",
              "    </tr>\n",
              "    <tr>\n",
              "      <th>max</th>\n",
              "      <td>34743.000000</td>\n",
              "      <td>1.0</td>\n",
              "      <td>6.000000</td>\n",
              "      <td>1.000000</td>\n",
              "      <td>1.000000</td>\n",
              "    </tr>\n",
              "  </tbody>\n",
              "</table>\n",
              "</div>\n",
              "    <div class=\"colab-df-buttons\">\n",
              "\n",
              "  <div class=\"colab-df-container\">\n",
              "    <button class=\"colab-df-convert\" onclick=\"convertToInteractive('df-48089c90-db9c-4e7f-91f7-ccc8b022d143')\"\n",
              "            title=\"Convert this dataframe to an interactive table.\"\n",
              "            style=\"display:none;\">\n",
              "\n",
              "  <svg xmlns=\"http://www.w3.org/2000/svg\" height=\"24px\" viewBox=\"0 -960 960 960\">\n",
              "    <path d=\"M120-120v-720h720v720H120Zm60-500h600v-160H180v160Zm220 220h160v-160H400v160Zm0 220h160v-160H400v160ZM180-400h160v-160H180v160Zm440 0h160v-160H620v160ZM180-180h160v-160H180v160Zm440 0h160v-160H620v160Z\"/>\n",
              "  </svg>\n",
              "    </button>\n",
              "\n",
              "  <style>\n",
              "    .colab-df-container {\n",
              "      display:flex;\n",
              "      gap: 12px;\n",
              "    }\n",
              "\n",
              "    .colab-df-convert {\n",
              "      background-color: #E8F0FE;\n",
              "      border: none;\n",
              "      border-radius: 50%;\n",
              "      cursor: pointer;\n",
              "      display: none;\n",
              "      fill: #1967D2;\n",
              "      height: 32px;\n",
              "      padding: 0 0 0 0;\n",
              "      width: 32px;\n",
              "    }\n",
              "\n",
              "    .colab-df-convert:hover {\n",
              "      background-color: #E2EBFA;\n",
              "      box-shadow: 0px 1px 2px rgba(60, 64, 67, 0.3), 0px 1px 3px 1px rgba(60, 64, 67, 0.15);\n",
              "      fill: #174EA6;\n",
              "    }\n",
              "\n",
              "    .colab-df-buttons div {\n",
              "      margin-bottom: 4px;\n",
              "    }\n",
              "\n",
              "    [theme=dark] .colab-df-convert {\n",
              "      background-color: #3B4455;\n",
              "      fill: #D2E3FC;\n",
              "    }\n",
              "\n",
              "    [theme=dark] .colab-df-convert:hover {\n",
              "      background-color: #434B5C;\n",
              "      box-shadow: 0px 1px 3px 1px rgba(0, 0, 0, 0.15);\n",
              "      filter: drop-shadow(0px 1px 2px rgba(0, 0, 0, 0.3));\n",
              "      fill: #FFFFFF;\n",
              "    }\n",
              "  </style>\n",
              "\n",
              "    <script>\n",
              "      const buttonEl =\n",
              "        document.querySelector('#df-48089c90-db9c-4e7f-91f7-ccc8b022d143 button.colab-df-convert');\n",
              "      buttonEl.style.display =\n",
              "        google.colab.kernel.accessAllowed ? 'block' : 'none';\n",
              "\n",
              "      async function convertToInteractive(key) {\n",
              "        const element = document.querySelector('#df-48089c90-db9c-4e7f-91f7-ccc8b022d143');\n",
              "        const dataTable =\n",
              "          await google.colab.kernel.invokeFunction('convertToInteractive',\n",
              "                                                    [key], {});\n",
              "        if (!dataTable) return;\n",
              "\n",
              "        const docLinkHtml = 'Like what you see? Visit the ' +\n",
              "          '<a target=\"_blank\" href=https://colab.research.google.com/notebooks/data_table.ipynb>data table notebook</a>'\n",
              "          + ' to learn more about interactive tables.';\n",
              "        element.innerHTML = '';\n",
              "        dataTable['output_type'] = 'display_data';\n",
              "        await google.colab.output.renderOutput(dataTable, element);\n",
              "        const docLink = document.createElement('div');\n",
              "        docLink.innerHTML = docLinkHtml;\n",
              "        element.appendChild(docLink);\n",
              "      }\n",
              "    </script>\n",
              "  </div>\n",
              "\n",
              "\n",
              "<div id=\"df-b2f06fe6-b338-471d-9887-ac26d817f28e\">\n",
              "  <button class=\"colab-df-quickchart\" onclick=\"quickchart('df-b2f06fe6-b338-471d-9887-ac26d817f28e')\"\n",
              "            title=\"Suggest charts\"\n",
              "            style=\"display:none;\">\n",
              "\n",
              "<svg xmlns=\"http://www.w3.org/2000/svg\" height=\"24px\"viewBox=\"0 0 24 24\"\n",
              "     width=\"24px\">\n",
              "    <g>\n",
              "        <path d=\"M19 3H5c-1.1 0-2 .9-2 2v14c0 1.1.9 2 2 2h14c1.1 0 2-.9 2-2V5c0-1.1-.9-2-2-2zM9 17H7v-7h2v7zm4 0h-2V7h2v10zm4 0h-2v-4h2v4z\"/>\n",
              "    </g>\n",
              "</svg>\n",
              "  </button>\n",
              "\n",
              "<style>\n",
              "  .colab-df-quickchart {\n",
              "      --bg-color: #E8F0FE;\n",
              "      --fill-color: #1967D2;\n",
              "      --hover-bg-color: #E2EBFA;\n",
              "      --hover-fill-color: #174EA6;\n",
              "      --disabled-fill-color: #AAA;\n",
              "      --disabled-bg-color: #DDD;\n",
              "  }\n",
              "\n",
              "  [theme=dark] .colab-df-quickchart {\n",
              "      --bg-color: #3B4455;\n",
              "      --fill-color: #D2E3FC;\n",
              "      --hover-bg-color: #434B5C;\n",
              "      --hover-fill-color: #FFFFFF;\n",
              "      --disabled-bg-color: #3B4455;\n",
              "      --disabled-fill-color: #666;\n",
              "  }\n",
              "\n",
              "  .colab-df-quickchart {\n",
              "    background-color: var(--bg-color);\n",
              "    border: none;\n",
              "    border-radius: 50%;\n",
              "    cursor: pointer;\n",
              "    display: none;\n",
              "    fill: var(--fill-color);\n",
              "    height: 32px;\n",
              "    padding: 0;\n",
              "    width: 32px;\n",
              "  }\n",
              "\n",
              "  .colab-df-quickchart:hover {\n",
              "    background-color: var(--hover-bg-color);\n",
              "    box-shadow: 0 1px 2px rgba(60, 64, 67, 0.3), 0 1px 3px 1px rgba(60, 64, 67, 0.15);\n",
              "    fill: var(--button-hover-fill-color);\n",
              "  }\n",
              "\n",
              "  .colab-df-quickchart-complete:disabled,\n",
              "  .colab-df-quickchart-complete:disabled:hover {\n",
              "    background-color: var(--disabled-bg-color);\n",
              "    fill: var(--disabled-fill-color);\n",
              "    box-shadow: none;\n",
              "  }\n",
              "\n",
              "  .colab-df-spinner {\n",
              "    border: 2px solid var(--fill-color);\n",
              "    border-color: transparent;\n",
              "    border-bottom-color: var(--fill-color);\n",
              "    animation:\n",
              "      spin 1s steps(1) infinite;\n",
              "  }\n",
              "\n",
              "  @keyframes spin {\n",
              "    0% {\n",
              "      border-color: transparent;\n",
              "      border-bottom-color: var(--fill-color);\n",
              "      border-left-color: var(--fill-color);\n",
              "    }\n",
              "    20% {\n",
              "      border-color: transparent;\n",
              "      border-left-color: var(--fill-color);\n",
              "      border-top-color: var(--fill-color);\n",
              "    }\n",
              "    30% {\n",
              "      border-color: transparent;\n",
              "      border-left-color: var(--fill-color);\n",
              "      border-top-color: var(--fill-color);\n",
              "      border-right-color: var(--fill-color);\n",
              "    }\n",
              "    40% {\n",
              "      border-color: transparent;\n",
              "      border-right-color: var(--fill-color);\n",
              "      border-top-color: var(--fill-color);\n",
              "    }\n",
              "    60% {\n",
              "      border-color: transparent;\n",
              "      border-right-color: var(--fill-color);\n",
              "    }\n",
              "    80% {\n",
              "      border-color: transparent;\n",
              "      border-right-color: var(--fill-color);\n",
              "      border-bottom-color: var(--fill-color);\n",
              "    }\n",
              "    90% {\n",
              "      border-color: transparent;\n",
              "      border-bottom-color: var(--fill-color);\n",
              "    }\n",
              "  }\n",
              "</style>\n",
              "\n",
              "  <script>\n",
              "    async function quickchart(key) {\n",
              "      const quickchartButtonEl =\n",
              "        document.querySelector('#' + key + ' button');\n",
              "      quickchartButtonEl.disabled = true;  // To prevent multiple clicks.\n",
              "      quickchartButtonEl.classList.add('colab-df-spinner');\n",
              "      try {\n",
              "        const charts = await google.colab.kernel.invokeFunction(\n",
              "            'suggestCharts', [key], {});\n",
              "      } catch (error) {\n",
              "        console.error('Error during call to suggestCharts:', error);\n",
              "      }\n",
              "      quickchartButtonEl.classList.remove('colab-df-spinner');\n",
              "      quickchartButtonEl.classList.add('colab-df-quickchart-complete');\n",
              "    }\n",
              "    (() => {\n",
              "      let quickchartButtonEl =\n",
              "        document.querySelector('#df-b2f06fe6-b338-471d-9887-ac26d817f28e button');\n",
              "      quickchartButtonEl.style.display =\n",
              "        google.colab.kernel.accessAllowed ? 'block' : 'none';\n",
              "    })();\n",
              "  </script>\n",
              "</div>\n",
              "\n",
              "    </div>\n",
              "  </div>\n"
            ],
            "application/vnd.google.colaboratory.intrinsic+json": {
              "type": "dataframe",
              "summary": "{\n  \"name\": \"df\",\n  \"rows\": 8,\n  \"fields\": [\n    {\n      \"column\": \"id\",\n      \"properties\": {\n        \"dtype\": \"number\",\n        \"std\": 12521.240495604316,\n        \"min\": 1.0,\n        \"max\": 34743.0,\n        \"num_unique_values\": 6,\n        \"samples\": [\n          34743.0,\n          17372.0,\n          26057.5\n        ],\n        \"semantic_type\": \"\",\n        \"description\": \"\"\n      }\n    },\n    {\n      \"column\": \"gender\",\n      \"properties\": {\n        \"dtype\": \"number\",\n        \"std\": 12283.202408603152,\n        \"min\": 0.0,\n        \"max\": 34743.0,\n        \"num_unique_values\": 3,\n        \"samples\": [\n          34743.0,\n          1.0,\n          0.0\n        ],\n        \"semantic_type\": \"\",\n        \"description\": \"\"\n      }\n    },\n    {\n      \"column\": \"numberOfChildren\",\n      \"properties\": {\n        \"dtype\": \"number\",\n        \"std\": 12282.707440100286,\n        \"min\": 0.0,\n        \"max\": 34743.0,\n        \"num_unique_values\": 7,\n        \"samples\": [\n          34743.0,\n          2.19903289871341,\n          3.0\n        ],\n        \"semantic_type\": \"\",\n        \"description\": \"\"\n      }\n    },\n    {\n      \"column\": \"isMarried\",\n      \"properties\": {\n        \"dtype\": \"number\",\n        \"std\": 12283.364167127986,\n        \"min\": 0.0,\n        \"max\": 34743.0,\n        \"num_unique_values\": 5,\n        \"samples\": [\n          0.3279221713726506,\n          1.0,\n          0.4694630597727003\n        ],\n        \"semantic_type\": \"\",\n        \"description\": \"\"\n      }\n    },\n    {\n      \"column\": \"hasDisability\",\n      \"properties\": {\n        \"dtype\": \"number\",\n        \"std\": 12283.447304651892,\n        \"min\": 0.0,\n        \"max\": 34743.0,\n        \"num_unique_values\": 5,\n        \"samples\": [\n          0.01807558357079124,\n          1.0,\n          0.13322675303950338\n        ],\n        \"semantic_type\": \"\",\n        \"description\": \"\"\n      }\n    }\n  ]\n}"
            }
          },
          "metadata": {},
          "execution_count": 105
        }
      ]
    },
    {
      "cell_type": "markdown",
      "source": [
        "# <a name='valid' >Validate Assumption</a>"
      ],
      "metadata": {
        "id": "tG1NVIbVqYbQ"
      }
    },
    {
      "cell_type": "code",
      "source": [
        "df.columns"
      ],
      "metadata": {
        "colab": {
          "base_uri": "https://localhost:8080/"
        },
        "id": "fKW1gMBfPzhN",
        "outputId": "d8ad3dd4-8bc4-439e-ade8-4c7fa02ec000"
      },
      "execution_count": 106,
      "outputs": [
        {
          "output_type": "execute_result",
          "data": {
            "text/plain": [
              "Index(['id', 'status', 'startDate', 'registrationDate', 'dob', 'gender',\n",
              "       'city', 'region', 'numberOfChildren', 'isMarried', 'hasDisability'],\n",
              "      dtype='object')"
            ]
          },
          "metadata": {},
          "execution_count": 106
        }
      ]
    },
    {
      "cell_type": "markdown",
      "source": [
        "# <a name='EDA1' >Exploratory Data Analysis (Uni-variable)</a>"
      ],
      "metadata": {
        "id": "V6LZykQ9rD9x"
      }
    },
    {
      "cell_type": "code",
      "source": [
        "# take a look at the values\n",
        "for col in df.nunique()[df.nunique() <100].index:\n",
        "    print(col,\":\", df[col].unique() )"
      ],
      "metadata": {
        "colab": {
          "base_uri": "https://localhost:8080/"
        },
        "id": "bR7nDLLCqp6y",
        "outputId": "2078772f-11ea-4452-a799-e7c7b49a17b9"
      },
      "execution_count": 107,
      "outputs": [
        {
          "output_type": "stream",
          "name": "stdout",
          "text": [
            "status : ['مفعل' 'ملغية']\n",
            "gender : [1]\n",
            "region : ['حائل' 'القصيم' 'المدينة المنورة' 'الرياض' 'مكة المكرمة'\n",
            " 'المنطقة الشرقية' 'الجوف' 'الحدود الشمالية' 'الباحة' 'نجران' 'عسير'\n",
            " 'تبوك' 'جازان']\n",
            "numberOfChildren : [2 3 1 4 0 6 5]\n",
            "isMarried : [0 1]\n",
            "hasDisability : [0 1]\n"
          ]
        }
      ]
    },
    {
      "cell_type": "code",
      "source": [
        "df.select_dtypes(exclude='number').columns.tolist()"
      ],
      "metadata": {
        "colab": {
          "base_uri": "https://localhost:8080/"
        },
        "id": "ZZL3z-ETq0hz",
        "outputId": "bcf138ef-f014-4115-e794-c1573e76ac8c"
      },
      "execution_count": 108,
      "outputs": [
        {
          "output_type": "execute_result",
          "data": {
            "text/plain": [
              "['status', 'startDate', 'registrationDate', 'dob', 'city', 'region']"
            ]
          },
          "metadata": {},
          "execution_count": 108
        }
      ]
    },
    {
      "cell_type": "markdown",
      "source": [
        "##**Question 1:** What is the distributions of the categorical variables?"
      ],
      "metadata": {
        "id": "yACqXxXwv6Hr"
      }
    },
    {
      "cell_type": "code",
      "source": [
        "# Display all categoral columns\n",
        "col_to_plot = df.select_dtypes(exclude='number').columns.tolist()\n",
        "f, axes = plt.subplots(round(len(col_to_plot)/2),2, figsize=(10, 15))\n",
        "for i,x in zip(col_to_plot,axes.flat):\n",
        "    sns.countplot(data = df ,x = str(i) ,ax = x  ,palette=\"muted\")\n",
        "f.show()\n",
        "plt.tight_layout()"
      ],
      "metadata": {
        "id": "anHTilHloBsM"
      },
      "execution_count": null,
      "outputs": []
    },
    {
      "cell_type": "code",
      "source": [
        "# Display all numeric columns\n",
        "col_to_plot = df.select_dtypes(include='number').columns.tolist()\n",
        "f, axes = plt.subplots(round(len(col_to_plot)/2),2, figsize=(15, 7))\n",
        "for i,x in zip(col_to_plot,axes.flat):\n",
        "    sns.histplot(data = df ,x = str(i) ,ax = x  ,palette=\"muted\")\n",
        "f.show()\n",
        "plt.tight_layout()"
      ],
      "metadata": {
        "id": "yeeKEzdHwg4i"
      },
      "execution_count": null,
      "outputs": []
    },
    {
      "cell_type": "code",
      "source": [
        "# Another visual to see outliers\n",
        "col_to_plot = df.select_dtypes(include='number').columns.tolist()\n",
        "f, axes = plt.subplots(round(len(col_to_plot)/2),2, figsize=(15, 7))\n",
        "for i,x in zip(col_to_plot,axes.flat):\n",
        "    sns.boxplot(data = df ,x = str(i) ,ax = x  ,palette=\"muted\")\n",
        "f.show()\n",
        "plt.tight_layout()"
      ],
      "metadata": {
        "id": "X0acl82ZwUkL"
      },
      "execution_count": null,
      "outputs": []
    },
    {
      "cell_type": "code",
      "source": [
        "# Plotting time series data on a line chart\n",
        "plt.figure(figsize=(10, 6))\n",
        "plt.plot(df['startDate'], df['region'], marker='o')\n",
        "plt.title('تاريخ التسجيل في البرنامج')\n",
        "plt.xlabel('تاريخ التسجيل')\n",
        "plt.ylabel('المناطق')\n",
        "plt.grid(True)\n",
        "plt.xticks(rotation=45)\n",
        "plt.tight_layout()\n",
        "plt.show()"
      ],
      "metadata": {
        "id": "2kEITkcxh0yX"
      },
      "execution_count": null,
      "outputs": []
    },
    {
      "cell_type": "markdown",
      "source": [
        "## **Question 3:** Which city has the highest median value?"
      ],
      "metadata": {
        "id": "VAd4d5vG0I9u"
      }
    },
    {
      "cell_type": "code",
      "source": [
        "sns.set(rc={'figure.figsize':(20,5)})\n",
        "plt.hist(df['city'])\n",
        "plt.xlabel('city',fontsize=15)\n",
        "plt.ylabel('Frequency',fontsize=15)\n",
        "plt.title('Distribution of city',fontsize=20);"
      ],
      "metadata": {
        "id": "qV8RSkF_jFhI"
      },
      "execution_count": null,
      "outputs": []
    },
    {
      "cell_type": "markdown",
      "source": [
        "## **Question 3:** What is the highest median value of numberOfChildren?"
      ],
      "metadata": {
        "id": "3Mpilk-H6TmB"
      }
    },
    {
      "cell_type": "code",
      "source": [
        "sns.set(rc={'figure.figsize':(10,7)})\n",
        "plt.hist(df.numberOfChildren\t)\n",
        "plt.xlabel('Number of Children',fontsize=15)\n",
        "plt.ylabel('Values',fontsize=15)\n",
        "plt.title('Box Plot of Number of Children',fontsize=20);"
      ],
      "metadata": {
        "id": "Jlr1GPhq_OIt"
      },
      "execution_count": null,
      "outputs": []
    },
    {
      "cell_type": "markdown",
      "source": [
        "##generate a grid of scatterplots for all pairs of numerical variables"
      ],
      "metadata": {
        "id": "N1-SqJPaKLWg"
      }
    },
    {
      "cell_type": "code",
      "source": [
        "import seaborn as sns\n",
        "\n",
        "sns.pairplot(df)\n",
        "plt.show()"
      ],
      "metadata": {
        "id": "tFnSuLGyKURw"
      },
      "execution_count": null,
      "outputs": []
    },
    {
      "cell_type": "code",
      "source": [
        "# Display numerical columns asgainst each other\n",
        "pd.plotting.scatter_matrix(df, alpha = 0.3, figsize = (14,8), diagonal = 'kde');"
      ],
      "metadata": {
        "id": "r9_T7e8F3QZA"
      },
      "execution_count": null,
      "outputs": []
    },
    {
      "cell_type": "code",
      "source": [
        "sns.heatmap(df.corr(numeric_only=True),annot=True)"
      ],
      "metadata": {
        "id": "sga1h51B3rY4"
      },
      "execution_count": null,
      "outputs": []
    },
    {
      "cell_type": "markdown",
      "source": [
        "## **Additional Tools for Analysis**"
      ],
      "metadata": {
        "id": "dyB8zilG_bi0"
      }
    },
    {
      "cell_type": "code",
      "execution_count": null,
      "metadata": {
        "id": "HpQ5ah5_3dhG"
      },
      "outputs": [],
      "source": [
        "!pip install ydata-profiling"
      ]
    },
    {
      "cell_type": "code",
      "source": [
        "from ydata_profiling import ProfileReport\n",
        "\n",
        "profile = ProfileReport(df, title=\"Profiling Report\")\n",
        "profile"
      ],
      "metadata": {
        "id": "XPirTb4J_maV"
      },
      "execution_count": null,
      "outputs": []
    }
  ]
}